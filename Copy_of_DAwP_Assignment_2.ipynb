{
  "nbformat": 4,
  "nbformat_minor": 0,
  "metadata": {
    "colab": {
      "name": "Copy of DAwP_Assignment_2.ipynb",
      "provenance": [],
      "collapsed_sections": [],
      "include_colab_link": true
    },
    "language_info": {
      "codemirror_mode": {
        "name": "ipython",
        "version": 3
      },
      "file_extension": ".py",
      "mimetype": "text/x-python",
      "name": "python",
      "nbconvert_exporter": "python",
      "pygments_lexer": "ipython3",
      "version": "3.6.5"
    },
    "kernelspec": {
      "display_name": "Python 3",
      "language": "python",
      "name": "python3"
    }
  },
  "cells": [
    {
      "cell_type": "markdown",
      "metadata": {
        "id": "view-in-github",
        "colab_type": "text"
      },
      "source": [
        "<a href=\"https://colab.research.google.com/github/phamhoangtin/CoderSchool_DataScience/blob/master/Copy_of_DAwP_Assignment_2.ipynb\" target=\"_parent\"><img src=\"https://colab.research.google.com/assets/colab-badge.svg\" alt=\"Open In Colab\"/></a>"
      ]
    },
    {
      "cell_type": "markdown",
      "metadata": {
        "id": "kL9VPYin9nOD",
        "colab_type": "text"
      },
      "source": [
        "![](https://i.imgur.com/0AUxkXt.png)\n",
        "\n",
        "# SF Salaries Exercise \n",
        "\n",
        "Explore San Francisco city employee salary data.\n",
        "\n",
        "## Overview\n",
        "\n",
        "One way to understand how a city government works is by looking at who it employs and how its employees are compensated. This data contains the names, job title, and compensation for San Francisco city employees on an annual basis from 2011 to 2014.\n",
        "\n",
        "\n",
        "\n",
        "Just follow along and complete the tasks outlined in bold below. The tasks will get harder and harder as you go along.\n",
        "\n",
        "## Resourses\n",
        "\n",
        "[Pandas API Reference](https://pandas.pydata.org/pandas-docs/stable/api.html)\n",
        "\n",
        "[NumPy Reference](https://docs.scipy.org/doc/numpy/reference/)\n",
        "\n",
        "[Visualization with Seaborn](https://jakevdp.github.io/PythonDataScienceHandbook/04.14-visualization-with-seaborn.html)\n"
      ]
    },
    {
      "cell_type": "markdown",
      "metadata": {
        "id": "ueY1PMBl9nOF",
        "colab_type": "text"
      },
      "source": [
        "**Import libraries**"
      ]
    },
    {
      "cell_type": "code",
      "metadata": {
        "id": "dnwk5LCx9nOG",
        "colab_type": "code",
        "colab": {}
      },
      "source": [
        "import pandas as pd\n",
        "import numpy as np\n",
        "import seaborn as sbn"
      ],
      "execution_count": 0,
      "outputs": []
    },
    {
      "cell_type": "markdown",
      "metadata": {
        "id": "jiOt1hEM9nOJ",
        "colab_type": "text"
      },
      "source": [
        "**Read `Salaries.csv` as a dataframe called `sal`.**"
      ]
    },
    {
      "cell_type": "code",
      "metadata": {
        "id": "FtA68BoY9nOJ",
        "colab_type": "code",
        "colab": {}
      },
      "source": [
        "# link = \"https://s3-ap-southeast-1.amazonaws.com/intro-to-ml-minhdh/Salaries.csv\"\n",
        "sal = pd.read_csv(\"https://s3-ap-southeast-1.amazonaws.com/intro-to-ml-minhdh/Salaries.csv\")"
      ],
      "execution_count": 0,
      "outputs": []
    },
    {
      "cell_type": "markdown",
      "metadata": {
        "id": "QW6hV4iv9nOM",
        "colab_type": "text"
      },
      "source": [
        "**Check the head of the DataFrame.**"
      ]
    },
    {
      "cell_type": "code",
      "metadata": {
        "id": "oa2JHHJ99nON",
        "colab_type": "code",
        "outputId": "00cbbd1d-d97f-4ff2-b975-e6faa0c35cf3",
        "colab": {
          "base_uri": "https://localhost:8080/",
          "height": 306
        }
      },
      "source": [
        "sal.head()"
      ],
      "execution_count": 0,
      "outputs": [
        {
          "output_type": "execute_result",
          "data": {
            "text/html": [
              "<div>\n",
              "<style scoped>\n",
              "    .dataframe tbody tr th:only-of-type {\n",
              "        vertical-align: middle;\n",
              "    }\n",
              "\n",
              "    .dataframe tbody tr th {\n",
              "        vertical-align: top;\n",
              "    }\n",
              "\n",
              "    .dataframe thead th {\n",
              "        text-align: right;\n",
              "    }\n",
              "</style>\n",
              "<table border=\"1\" class=\"dataframe\">\n",
              "  <thead>\n",
              "    <tr style=\"text-align: right;\">\n",
              "      <th></th>\n",
              "      <th>Id</th>\n",
              "      <th>EmployeeName</th>\n",
              "      <th>JobTitle</th>\n",
              "      <th>BasePay</th>\n",
              "      <th>OvertimePay</th>\n",
              "      <th>OtherPay</th>\n",
              "      <th>Benefits</th>\n",
              "      <th>TotalPay</th>\n",
              "      <th>TotalPayBenefits</th>\n",
              "      <th>Year</th>\n",
              "      <th>Notes</th>\n",
              "      <th>Agency</th>\n",
              "      <th>Status</th>\n",
              "    </tr>\n",
              "  </thead>\n",
              "  <tbody>\n",
              "    <tr>\n",
              "      <th>0</th>\n",
              "      <td>1</td>\n",
              "      <td>NATHANIEL FORD</td>\n",
              "      <td>GENERAL MANAGER-METROPOLITAN TRANSIT AUTHORITY</td>\n",
              "      <td>167411.18</td>\n",
              "      <td>0.00</td>\n",
              "      <td>400184.25</td>\n",
              "      <td>NaN</td>\n",
              "      <td>567595.43</td>\n",
              "      <td>567595.43</td>\n",
              "      <td>2011</td>\n",
              "      <td>NaN</td>\n",
              "      <td>San Francisco</td>\n",
              "      <td>NaN</td>\n",
              "    </tr>\n",
              "    <tr>\n",
              "      <th>1</th>\n",
              "      <td>2</td>\n",
              "      <td>GARY JIMENEZ</td>\n",
              "      <td>CAPTAIN III (POLICE DEPARTMENT)</td>\n",
              "      <td>155966.02</td>\n",
              "      <td>245131.88</td>\n",
              "      <td>137811.38</td>\n",
              "      <td>NaN</td>\n",
              "      <td>538909.28</td>\n",
              "      <td>538909.28</td>\n",
              "      <td>2011</td>\n",
              "      <td>NaN</td>\n",
              "      <td>San Francisco</td>\n",
              "      <td>NaN</td>\n",
              "    </tr>\n",
              "    <tr>\n",
              "      <th>2</th>\n",
              "      <td>3</td>\n",
              "      <td>ALBERT PARDINI</td>\n",
              "      <td>CAPTAIN III (POLICE DEPARTMENT)</td>\n",
              "      <td>212739.13</td>\n",
              "      <td>106088.18</td>\n",
              "      <td>16452.60</td>\n",
              "      <td>NaN</td>\n",
              "      <td>335279.91</td>\n",
              "      <td>335279.91</td>\n",
              "      <td>2011</td>\n",
              "      <td>NaN</td>\n",
              "      <td>San Francisco</td>\n",
              "      <td>NaN</td>\n",
              "    </tr>\n",
              "    <tr>\n",
              "      <th>3</th>\n",
              "      <td>4</td>\n",
              "      <td>CHRISTOPHER CHONG</td>\n",
              "      <td>WIRE ROPE CABLE MAINTENANCE MECHANIC</td>\n",
              "      <td>77916.00</td>\n",
              "      <td>56120.71</td>\n",
              "      <td>198306.90</td>\n",
              "      <td>NaN</td>\n",
              "      <td>332343.61</td>\n",
              "      <td>332343.61</td>\n",
              "      <td>2011</td>\n",
              "      <td>NaN</td>\n",
              "      <td>San Francisco</td>\n",
              "      <td>NaN</td>\n",
              "    </tr>\n",
              "    <tr>\n",
              "      <th>4</th>\n",
              "      <td>5</td>\n",
              "      <td>PATRICK GARDNER</td>\n",
              "      <td>DEPUTY CHIEF OF DEPARTMENT,(FIRE DEPARTMENT)</td>\n",
              "      <td>134401.60</td>\n",
              "      <td>9737.00</td>\n",
              "      <td>182234.59</td>\n",
              "      <td>NaN</td>\n",
              "      <td>326373.19</td>\n",
              "      <td>326373.19</td>\n",
              "      <td>2011</td>\n",
              "      <td>NaN</td>\n",
              "      <td>San Francisco</td>\n",
              "      <td>NaN</td>\n",
              "    </tr>\n",
              "  </tbody>\n",
              "</table>\n",
              "</div>"
            ],
            "text/plain": [
              "   Id       EmployeeName  ...         Agency  Status\n",
              "0   1     NATHANIEL FORD  ...  San Francisco     NaN\n",
              "1   2       GARY JIMENEZ  ...  San Francisco     NaN\n",
              "2   3     ALBERT PARDINI  ...  San Francisco     NaN\n",
              "3   4  CHRISTOPHER CHONG  ...  San Francisco     NaN\n",
              "4   5    PATRICK GARDNER  ...  San Francisco     NaN\n",
              "\n",
              "[5 rows x 13 columns]"
            ]
          },
          "metadata": {
            "tags": []
          },
          "execution_count": 6
        }
      ]
    },
    {
      "cell_type": "markdown",
      "metadata": {
        "id": "LgRIzJ_l9nOP",
        "colab_type": "text"
      },
      "source": [
        "**Use the .info() method to find out how many entries there are.**"
      ]
    },
    {
      "cell_type": "code",
      "metadata": {
        "id": "JuwgdTfz9nOP",
        "colab_type": "code",
        "outputId": "45f82470-3af9-4e49-a7fe-f8c2bfa9481d",
        "colab": {
          "base_uri": "https://localhost:8080/",
          "height": 323
        }
      },
      "source": [
        "sal.info()"
      ],
      "execution_count": 0,
      "outputs": [
        {
          "output_type": "stream",
          "text": [
            "<class 'pandas.core.frame.DataFrame'>\n",
            "RangeIndex: 148654 entries, 0 to 148653\n",
            "Data columns (total 13 columns):\n",
            "Id                  148654 non-null int64\n",
            "EmployeeName        148654 non-null object\n",
            "JobTitle            148654 non-null object\n",
            "BasePay             148045 non-null float64\n",
            "OvertimePay         148650 non-null float64\n",
            "OtherPay            148650 non-null float64\n",
            "Benefits            112491 non-null float64\n",
            "TotalPay            148654 non-null float64\n",
            "TotalPayBenefits    148654 non-null float64\n",
            "Year                148654 non-null int64\n",
            "Notes               0 non-null float64\n",
            "Agency              148654 non-null object\n",
            "Status              0 non-null float64\n",
            "dtypes: float64(8), int64(2), object(3)\n",
            "memory usage: 14.7+ MB\n"
          ],
          "name": "stdout"
        }
      ]
    },
    {
      "cell_type": "markdown",
      "metadata": {
        "id": "RgO49aNW9nOR",
        "colab_type": "text"
      },
      "source": [
        "**What is the average BasePay ?**\n",
        "\n",
        "Keyword: [mean](https://pandas.pydata.org/pandas-docs/stable/generated/pandas.DataFrame.mean.html)"
      ]
    },
    {
      "cell_type": "code",
      "metadata": {
        "id": "twQu_3xj9nOS",
        "colab_type": "code",
        "outputId": "765f8a8c-ad72-468a-9c14-05b78cd7a660",
        "colab": {
          "base_uri": "https://localhost:8080/",
          "height": 34
        }
      },
      "source": [
        "sal['BasePay'].mean()"
      ],
      "execution_count": 0,
      "outputs": [
        {
          "output_type": "execute_result",
          "data": {
            "text/plain": [
              "66325.44884050643"
            ]
          },
          "metadata": {
            "tags": []
          },
          "execution_count": 8
        }
      ]
    },
    {
      "cell_type": "markdown",
      "metadata": {
        "id": "qQc-OERD9nOU",
        "colab_type": "text"
      },
      "source": [
        "**What is the lowest and highest amount of BasePay?**\n",
        "\n",
        "Keyword: \n",
        "[min](https://pandas.pydata.org/pandas-docs/stable/generated/pandas.DataFrame.min.html) , \n",
        "[max](https://pandas.pydata.org/pandas-docs/stable/generated/pandas.DataFrame.max.html)"
      ]
    },
    {
      "cell_type": "code",
      "metadata": {
        "id": "22XKRdg49nOV",
        "colab_type": "code",
        "outputId": "e783f236-a3bf-44f5-f58e-0b48aee187fc",
        "colab": {
          "base_uri": "https://localhost:8080/",
          "height": 34
        }
      },
      "source": [
        "sal['BasePay'].max()"
      ],
      "execution_count": 0,
      "outputs": [
        {
          "output_type": "execute_result",
          "data": {
            "text/plain": [
              "319275.01"
            ]
          },
          "metadata": {
            "tags": []
          },
          "execution_count": 14
        }
      ]
    },
    {
      "cell_type": "code",
      "metadata": {
        "id": "R-yPM0ZU9nOX",
        "colab_type": "code",
        "outputId": "1a3688a8-36ae-4692-a6cb-fed53221f482",
        "colab": {
          "base_uri": "https://localhost:8080/",
          "height": 34
        }
      },
      "source": [
        "min(sal['BasePay'])"
      ],
      "execution_count": 0,
      "outputs": [
        {
          "output_type": "execute_result",
          "data": {
            "text/plain": [
              "-166.01"
            ]
          },
          "metadata": {
            "tags": []
          },
          "execution_count": 13
        }
      ]
    },
    {
      "cell_type": "markdown",
      "metadata": {
        "id": "-MdkKp6U9nOa",
        "colab_type": "text"
      },
      "source": [
        "**How about OvertimePay in the dataset? What is the average, lowest, highest amount?**"
      ]
    },
    {
      "cell_type": "code",
      "metadata": {
        "id": "Og2yxCil9nOb",
        "colab_type": "code",
        "outputId": "8e5b5c29-af66-4877-a463-6007d5a9c9f9",
        "colab": {
          "base_uri": "https://localhost:8080/",
          "height": 34
        }
      },
      "source": [
        "sal['OvertimePay'].mean()\n"
      ],
      "execution_count": 0,
      "outputs": [
        {
          "output_type": "execute_result",
          "data": {
            "text/plain": [
              "5066.059886444622"
            ]
          },
          "metadata": {
            "tags": []
          },
          "execution_count": 17
        }
      ]
    },
    {
      "cell_type": "code",
      "metadata": {
        "id": "DkkAbrySzGCU",
        "colab_type": "code",
        "outputId": "470a88b9-8bcd-42fd-b579-556ddffcc5b7",
        "colab": {
          "base_uri": "https://localhost:8080/",
          "height": 34
        }
      },
      "source": [
        "sal['OvertimePay'].min()\n"
      ],
      "execution_count": 0,
      "outputs": [
        {
          "output_type": "execute_result",
          "data": {
            "text/plain": [
              "-0.01"
            ]
          },
          "metadata": {
            "tags": []
          },
          "execution_count": 18
        }
      ]
    },
    {
      "cell_type": "code",
      "metadata": {
        "id": "bri-SxD0zIrl",
        "colab_type": "code",
        "outputId": "03286b0c-633a-4c34-a5fa-2e53acad1fef",
        "colab": {
          "base_uri": "https://localhost:8080/",
          "height": 34
        }
      },
      "source": [
        "sal['OvertimePay'].max()"
      ],
      "execution_count": 0,
      "outputs": [
        {
          "output_type": "execute_result",
          "data": {
            "text/plain": [
              "245131.88"
            ]
          },
          "metadata": {
            "tags": []
          },
          "execution_count": 19
        }
      ]
    },
    {
      "cell_type": "markdown",
      "metadata": {
        "id": "mF0zrXXh9nOf",
        "colab_type": "text"
      },
      "source": [
        "**What is the job title of  JOSEPH DRISCOLL ? Note: Use all caps, otherwise you may get an answer that doesn't match up (there is also a lowercase Joseph Driscoll).**"
      ]
    },
    {
      "cell_type": "code",
      "metadata": {
        "id": "wbqO05iu9nOh",
        "colab_type": "code",
        "outputId": "87861d1b-a78e-4623-9148-68ca1524ecf7",
        "colab": {
          "base_uri": "https://localhost:8080/",
          "height": 163
        }
      },
      "source": [
        "j = sal[sal['JobTitle'] == 'JOSEPH DRISCOLL']\n"
      ],
      "execution_count": 1,
      "outputs": [
        {
          "output_type": "error",
          "ename": "NameError",
          "evalue": "ignored",
          "traceback": [
            "\u001b[0;31m---------------------------------------------------------------------------\u001b[0m",
            "\u001b[0;31mNameError\u001b[0m                                 Traceback (most recent call last)",
            "\u001b[0;32m<ipython-input-1-b7baa3b25a36>\u001b[0m in \u001b[0;36m<module>\u001b[0;34m()\u001b[0m\n\u001b[0;32m----> 1\u001b[0;31m \u001b[0mj\u001b[0m \u001b[0;34m=\u001b[0m \u001b[0msal\u001b[0m\u001b[0;34m[\u001b[0m\u001b[0msal\u001b[0m\u001b[0;34m[\u001b[0m\u001b[0;34m'JobTitle'\u001b[0m\u001b[0;34m]\u001b[0m \u001b[0;34m==\u001b[0m \u001b[0;34m'JOSEPH DRISCOLL'\u001b[0m\u001b[0;34m]\u001b[0m\u001b[0;34m\u001b[0m\u001b[0;34m\u001b[0m\u001b[0m\n\u001b[0m",
            "\u001b[0;31mNameError\u001b[0m: name 'sal' is not defined"
          ]
        }
      ]
    },
    {
      "cell_type": "code",
      "metadata": {
        "id": "MwzxTlI29nOl",
        "colab_type": "code",
        "colab": {}
      },
      "source": [
        "# Now try to select Employees who have name \"GARY JIMENEZ\"\n",
        "# Your code here\n",
        "e_Gary = sal[sal['EmployeeName'] == 'GARY JIMENEZ']"
      ],
      "execution_count": 0,
      "outputs": []
    },
    {
      "cell_type": "markdown",
      "metadata": {
        "id": "0nrHI4iu9nOn",
        "colab_type": "text"
      },
      "source": [
        "**How much does JOSEPH DRISCOLL make (including benefits)?**"
      ]
    },
    {
      "cell_type": "code",
      "metadata": {
        "id": "TUZlBSDE9nOo",
        "colab_type": "code",
        "colab": {}
      },
      "source": [
        ""
      ],
      "execution_count": 0,
      "outputs": []
    },
    {
      "cell_type": "markdown",
      "metadata": {
        "id": "1thjd2GC9nOq",
        "colab_type": "text"
      },
      "source": [
        "**What is the name of highest paid person (including benefits)?**"
      ]
    },
    {
      "cell_type": "code",
      "metadata": {
        "id": "msrq-7Ww9nOr",
        "colab_type": "code",
        "outputId": "ee893f37-3b2b-4c66-ad29-a0e0c8d9fe4c",
        "colab": {
          "base_uri": "https://localhost:8080/",
          "height": 34
        }
      },
      "source": [
        "joseph_Make = j['TotalPayBenefits'].sum()\n",
        "print(joseph_Make)"
      ],
      "execution_count": 0,
      "outputs": [
        {
          "output_type": "stream",
          "text": [
            "13927773042.81\n"
          ],
          "name": "stdout"
        }
      ]
    },
    {
      "cell_type": "markdown",
      "metadata": {
        "id": "uF2kX93x9nOu",
        "colab_type": "text"
      },
      "source": [
        "**What is the name of lowest paid person (including benefits)? Do you notice something strange about how much he or she is paid?**"
      ]
    },
    {
      "cell_type": "code",
      "metadata": {
        "id": "htAfatTl9nOv",
        "colab_type": "code",
        "outputId": "d207cacc-ced0-4382-f894-70c5a4504200",
        "colab": {
          "base_uri": "https://localhost:8080/",
          "height": 51
        }
      },
      "source": [
        "minPay = min(sal['TotalPayBenefits'])\n",
        "sal[sal['TotalPayBenefits'] == minPay ].EmployeeName"
      ],
      "execution_count": 0,
      "outputs": [
        {
          "output_type": "execute_result",
          "data": {
            "text/plain": [
              "148653    Joe Lopez\n",
              "Name: EmployeeName, dtype: object"
            ]
          },
          "metadata": {
            "tags": []
          },
          "execution_count": 37
        }
      ]
    },
    {
      "cell_type": "markdown",
      "metadata": {
        "id": "WB0HTvjM9nOx",
        "colab_type": "text"
      },
      "source": [
        "**What was the average (mean) BasePay of all employees per year? (2011-2014) ?**\n",
        "Keyword: _groupby_"
      ]
    },
    {
      "cell_type": "code",
      "metadata": {
        "id": "6Y5mUYir9nOy",
        "colab_type": "code",
        "colab": {
          "base_uri": "https://localhost:8080/",
          "height": 119
        },
        "outputId": "7930e63a-9606-4672-9dfb-044f784e7fb1"
      },
      "source": [
        "meanBasePay = sal.groupby(\"Year\")[\"BasePay\"].mean()\n",
        "print(meanBasePay)"
      ],
      "execution_count": 7,
      "outputs": [
        {
          "output_type": "stream",
          "text": [
            "Year\n",
            "2011    63595.956517\n",
            "2012    65436.406857\n",
            "2013    69630.030216\n",
            "2014    66564.421924\n",
            "Name: BasePay, dtype: float64\n"
          ],
          "name": "stdout"
        }
      ]
    },
    {
      "cell_type": "markdown",
      "metadata": {
        "id": "k8Qzx9MD9nO0",
        "colab_type": "text"
      },
      "source": [
        "**How many unique job titles are there?**\n",
        "\n",
        "Keyword: _unique, nunique_"
      ]
    },
    {
      "cell_type": "code",
      "metadata": {
        "id": "mvzwZ5Mb9nO1",
        "colab_type": "code",
        "colab": {
          "base_uri": "https://localhost:8080/",
          "height": 34
        },
        "outputId": "99d8f11e-c25d-4578-94ad-919cfe7b9cff"
      },
      "source": [
        "numUJob = sal[\"JobTitle\"].nunique()\n",
        "print(numUJob)"
      ],
      "execution_count": 16,
      "outputs": [
        {
          "output_type": "stream",
          "text": [
            "2159\n"
          ],
          "name": "stdout"
        }
      ]
    },
    {
      "cell_type": "markdown",
      "metadata": {
        "id": "0dkyZe-39nO4",
        "colab_type": "text"
      },
      "source": [
        "**What are the top 5 most common jobs?**\n",
        "\n",
        "Keyword: *value_counts*"
      ]
    },
    {
      "cell_type": "code",
      "metadata": {
        "id": "PVSDr3Ww9nO7",
        "colab_type": "code",
        "colab": {
          "base_uri": "https://localhost:8080/",
          "height": 119
        },
        "outputId": "5d2ef6ad-0698-4257-fcf9-dde31f95d566"
      },
      "source": [
        "a = sal[\"JobTitle\"].value_counts().head(5)\n",
        "print(a)"
      ],
      "execution_count": 23,
      "outputs": [
        {
          "output_type": "stream",
          "text": [
            "Transit Operator                7036\n",
            "Special Nurse                   4389\n",
            "Registered Nurse                3736\n",
            "Public Svc Aide-Public Works    2518\n",
            "Police Officer 3                2421\n",
            "Name: JobTitle, dtype: int64\n"
          ],
          "name": "stdout"
        }
      ]
    },
    {
      "cell_type": "markdown",
      "metadata": {
        "id": "25fCX21U9nO-",
        "colab_type": "text"
      },
      "source": [
        "**How many Job Titles were represented by only one person in 2013? (e.g. Job Titles with only one occurence in 2013?)**"
      ]
    },
    {
      "cell_type": "code",
      "metadata": {
        "id": "e9vr6BKD9nPA",
        "colab_type": "code",
        "colab": {
          "base_uri": "https://localhost:8080/",
          "height": 34
        },
        "outputId": "e5170353-4b8c-4de5-ce90-6eee073347d4"
      },
      "source": [
        "a = sum(sal[sal[\"Year\"] == 2013][\"JobTitle\"].value_counts() ==1)\n",
        "print(a)"
      ],
      "execution_count": 32,
      "outputs": [
        {
          "output_type": "stream",
          "text": [
            "202\n"
          ],
          "name": "stdout"
        }
      ]
    },
    {
      "cell_type": "markdown",
      "metadata": {
        "id": "HoiNghja9nPD",
        "colab_type": "text"
      },
      "source": [
        "**How many people have the word Chief in their job title?**"
      ]
    },
    {
      "cell_type": "code",
      "metadata": {
        "id": "mBc0hzan9nPE",
        "colab_type": "code",
        "colab": {}
      },
      "source": [
        "def FindChief (jobTitle):\n",
        "  if 'CHIEF' in jobTitle.upper(): \n",
        "    return True\n",
        "  return False"
      ],
      "execution_count": 0,
      "outputs": []
    },
    {
      "cell_type": "code",
      "metadata": {
        "id": "u40e_Ua89nPF",
        "colab_type": "code",
        "colab": {
          "base_uri": "https://localhost:8080/",
          "height": 34
        },
        "outputId": "8d10faaf-f9bb-435a-e9d1-13061f9bd823"
      },
      "source": [
        "count = sum(sal['JobTitle'].apply(lambda x : FindChief(x)))\n",
        "print(count)"
      ],
      "execution_count": 46,
      "outputs": [
        {
          "output_type": "stream",
          "text": [
            "627\n"
          ],
          "name": "stdout"
        }
      ]
    },
    {
      "cell_type": "code",
      "metadata": {
        "id": "SA7QNzVq9nPI",
        "colab_type": "code",
        "colab": {}
      },
      "source": [
        ""
      ],
      "execution_count": 0,
      "outputs": []
    },
    {
      "cell_type": "markdown",
      "metadata": {
        "id": "5G094gws9nPL",
        "colab_type": "text"
      },
      "source": [
        "## Data Visualization\n",
        "\n",
        "**Implement seaborn's countplot with x='Year'**"
      ]
    },
    {
      "cell_type": "code",
      "metadata": {
        "id": "56GKG4UD9nPM",
        "colab_type": "code",
        "colab": {
          "base_uri": "https://localhost:8080/",
          "height": 283
        },
        "outputId": "8fd9562c-8091-487a-dbdd-48ce27c14f6a"
      },
      "source": [
        "sbn.countplot(x = sal['Year']);"
      ],
      "execution_count": 49,
      "outputs": [
        {
          "output_type": "display_data",
          "data": {
            "image/png": "[encoded data removed]",
            "text/plain": [
              "<Figure size 432x288 with 1 Axes>"
            ]
          },
          "metadata": {
            "tags": []
          }
        }
      ]
    },
    {
      "cell_type": "markdown",
      "metadata": {
        "id": "orQACfVP9nPP",
        "colab_type": "text"
      },
      "source": [
        "**Implement seaborn's distplot for BasePay of Year 2011****Implement seaborn's distplot for BasePay of Year 2011**"
      ]
    },
    {
      "cell_type": "code",
      "metadata": {
        "id": "JYPrrLW19nPQ",
        "colab_type": "code",
        "colab": {
          "base_uri": "https://localhost:8080/",
          "height": 283
        },
        "outputId": "1fb277fd-66d4-400d-deba-10d7a7898bf2"
      },
      "source": [
        "x = sal.query('Year ==2011')\n",
        "sbn.distplot(x['BasePay']);"
      ],
      "execution_count": 64,
      "outputs": [
        {
          "output_type": "display_data",
          "data": {
            "image/png": "[encoded data removed]",
            "text/plain": [
              "<Figure size 432x288 with 1 Axes>"
            ]
          },
          "metadata": {
            "tags": []
          }
        }
      ]
    },
    {
      "cell_type": "markdown",
      "metadata": {
        "id": "Ea9OFiqK9nPS",
        "colab_type": "text"
      },
      "source": [
        "**How about other Year**"
      ]
    },
    {
      "cell_type": "code",
      "metadata": {
        "id": "orRMn0X89nPT",
        "colab_type": "code",
        "colab": {
          "base_uri": "https://localhost:8080/",
          "height": 300
        },
        "outputId": "3cba331a-a2f8-4392-ed39-d63c54f5c663"
      },
      "source": [
        "\n",
        "sbn.distplot(sal['BasePay'].dropna())"
      ],
      "execution_count": 72,
      "outputs": [
        {
          "output_type": "execute_result",
          "data": {
            "text/plain": [
              "<matplotlib.axes._subplots.AxesSubplot at 0x7f5d8ef34c18>"
            ]
          },
          "metadata": {
            "tags": []
          },
          "execution_count": 72
        },
        {
          "output_type": "display_data",
          "data": {
            "image/png": "[encoded data removed]",
            "text/plain": [
              "<Figure size 432x288 with 1 Axes>"
            ]
          },
          "metadata": {
            "tags": []
          }
        }
      ]
    },
    {
      "cell_type": "markdown",
      "metadata": {
        "id": "00EkkG_s9nPV",
        "colab_type": "text"
      },
      "source": [
        "## Bonus\n",
        "\n",
        "**Visualize top 5 Jobs with BasePay, Benefits and OvertimePay**\n",
        "\n",
        "Keyword: *index, isin, groupby, mean, plot*"
      ]
    },
    {
      "cell_type": "code",
      "metadata": {
        "id": "LoZm87Bu9nPV",
        "colab_type": "code",
        "colab": {
          "base_uri": "https://localhost:8080/",
          "height": 119
        },
        "outputId": "7ae1eea9-576f-4a96-a134-7917b4cc33d1"
      },
      "source": [
        "sort = sal.sort_values(['BasePay','Benefits','OvertimePay'], ascending = False)\n",
        "\n",
        "print(sort[['JobTitle','BasePay','Benefits','OvertimePay']].head(5))"
      ],
      "execution_count": 90,
      "outputs": [
        {
          "output_type": "stream",
          "text": [
            "                            JobTitle    BasePay  Benefits  OvertimePay\n",
            "72925                Chief of Police  319275.01  86533.21         0.00\n",
            "110532             Asst Med Examiner  318835.49  89540.23     10712.95\n",
            "72929   Dep Dir for Investments, Ret  315572.01  82849.66         0.00\n",
            "72926         Chief, Fire Department  313686.01  85431.39         0.00\n",
            "72931    Executive Contract Employee  313312.52  82319.51         0.00\n"
          ],
          "name": "stdout"
        }
      ]
    },
    {
      "cell_type": "code",
      "metadata": {
        "id": "C-nKGOA-9nPY",
        "colab_type": "code",
        "colab": {}
      },
      "source": [
        ""
      ],
      "execution_count": 0,
      "outputs": []
    },
    {
      "cell_type": "markdown",
      "metadata": {
        "id": "V2Lz3SGu9nPc",
        "colab_type": "text"
      },
      "source": [
        "**Fun Fact: Is there a correlation between length of the Job Title string and Salary?**\n",
        "\n",
        "*Hint: corr()*"
      ]
    },
    {
      "cell_type": "code",
      "metadata": {
        "id": "CgcrtPdJ9nPd",
        "colab_type": "code",
        "colab": {}
      },
      "source": [
        ""
      ],
      "execution_count": 0,
      "outputs": []
    },
    {
      "cell_type": "code",
      "metadata": {
        "id": "G8SQ0NhI9nPe",
        "colab_type": "code",
        "colab": {
          "base_uri": "https://localhost:8080/",
          "height": 359
        },
        "outputId": "9256c656-fee3-48de-8c98-cc1fb88314fb"
      },
      "source": [
        "sal.corr(method ='kendall')"
      ],
      "execution_count": 92,
      "outputs": [
        {
          "output_type": "execute_result",
          "data": {
            "text/html": [
              "<div>\n",
              "<style scoped>\n",
              "    .dataframe tbody tr th:only-of-type {\n",
              "        vertical-align: middle;\n",
              "    }\n",
              "\n",
              "    .dataframe tbody tr th {\n",
              "        vertical-align: top;\n",
              "    }\n",
              "\n",
              "    .dataframe thead th {\n",
              "        text-align: right;\n",
              "    }\n",
              "</style>\n",
              "<table border=\"1\" class=\"dataframe\">\n",
              "  <thead>\n",
              "    <tr style=\"text-align: right;\">\n",
              "      <th></th>\n",
              "      <th>Id</th>\n",
              "      <th>BasePay</th>\n",
              "      <th>OvertimePay</th>\n",
              "      <th>OtherPay</th>\n",
              "      <th>Benefits</th>\n",
              "      <th>TotalPay</th>\n",
              "      <th>TotalPayBenefits</th>\n",
              "      <th>Year</th>\n",
              "      <th>Notes</th>\n",
              "      <th>Status</th>\n",
              "    </tr>\n",
              "  </thead>\n",
              "  <tbody>\n",
              "    <tr>\n",
              "      <th>Id</th>\n",
              "      <td>1.000000</td>\n",
              "      <td>-0.201067</td>\n",
              "      <td>-0.071083</td>\n",
              "      <td>-0.104453</td>\n",
              "      <td>-0.324056</td>\n",
              "      <td>-0.225156</td>\n",
              "      <td>-0.150623</td>\n",
              "      <td>0.865969</td>\n",
              "      <td>NaN</td>\n",
              "      <td>NaN</td>\n",
              "    </tr>\n",
              "    <tr>\n",
              "      <th>BasePay</th>\n",
              "      <td>-0.201067</td>\n",
              "      <td>1.000000</td>\n",
              "      <td>0.224859</td>\n",
              "      <td>0.290479</td>\n",
              "      <td>0.790229</td>\n",
              "      <td>0.887552</td>\n",
              "      <td>0.832879</td>\n",
              "      <td>0.023485</td>\n",
              "      <td>NaN</td>\n",
              "      <td>NaN</td>\n",
              "    </tr>\n",
              "    <tr>\n",
              "      <th>OvertimePay</th>\n",
              "      <td>-0.071083</td>\n",
              "      <td>0.224859</td>\n",
              "      <td>1.000000</td>\n",
              "      <td>0.440682</td>\n",
              "      <td>0.269008</td>\n",
              "      <td>0.336174</td>\n",
              "      <td>0.325602</td>\n",
              "      <td>0.013507</td>\n",
              "      <td>NaN</td>\n",
              "      <td>NaN</td>\n",
              "    </tr>\n",
              "    <tr>\n",
              "      <th>OtherPay</th>\n",
              "      <td>-0.104453</td>\n",
              "      <td>0.290479</td>\n",
              "      <td>0.440682</td>\n",
              "      <td>1.000000</td>\n",
              "      <td>0.304795</td>\n",
              "      <td>0.373620</td>\n",
              "      <td>0.355090</td>\n",
              "      <td>-0.014943</td>\n",
              "      <td>NaN</td>\n",
              "      <td>NaN</td>\n",
              "    </tr>\n",
              "    <tr>\n",
              "      <th>Benefits</th>\n",
              "      <td>-0.324056</td>\n",
              "      <td>0.790229</td>\n",
              "      <td>0.269008</td>\n",
              "      <td>0.304795</td>\n",
              "      <td>1.000000</td>\n",
              "      <td>0.778525</td>\n",
              "      <td>0.821922</td>\n",
              "      <td>-0.050176</td>\n",
              "      <td>NaN</td>\n",
              "      <td>NaN</td>\n",
              "    </tr>\n",
              "    <tr>\n",
              "      <th>TotalPay</th>\n",
              "      <td>-0.225156</td>\n",
              "      <td>0.887552</td>\n",
              "      <td>0.336174</td>\n",
              "      <td>0.373620</td>\n",
              "      <td>0.778525</td>\n",
              "      <td>1.000000</td>\n",
              "      <td>0.888491</td>\n",
              "      <td>0.020540</td>\n",
              "      <td>NaN</td>\n",
              "      <td>NaN</td>\n",
              "    </tr>\n",
              "    <tr>\n",
              "      <th>TotalPayBenefits</th>\n",
              "      <td>-0.150623</td>\n",
              "      <td>0.832879</td>\n",
              "      <td>0.325602</td>\n",
              "      <td>0.355090</td>\n",
              "      <td>0.821922</td>\n",
              "      <td>0.888491</td>\n",
              "      <td>1.000000</td>\n",
              "      <td>0.114866</td>\n",
              "      <td>NaN</td>\n",
              "      <td>NaN</td>\n",
              "    </tr>\n",
              "    <tr>\n",
              "      <th>Year</th>\n",
              "      <td>0.865969</td>\n",
              "      <td>0.023485</td>\n",
              "      <td>0.013507</td>\n",
              "      <td>-0.014943</td>\n",
              "      <td>-0.050176</td>\n",
              "      <td>0.020540</td>\n",
              "      <td>0.114866</td>\n",
              "      <td>1.000000</td>\n",
              "      <td>NaN</td>\n",
              "      <td>NaN</td>\n",
              "    </tr>\n",
              "    <tr>\n",
              "      <th>Notes</th>\n",
              "      <td>NaN</td>\n",
              "      <td>NaN</td>\n",
              "      <td>NaN</td>\n",
              "      <td>NaN</td>\n",
              "      <td>NaN</td>\n",
              "      <td>NaN</td>\n",
              "      <td>NaN</td>\n",
              "      <td>NaN</td>\n",
              "      <td>NaN</td>\n",
              "      <td>NaN</td>\n",
              "    </tr>\n",
              "    <tr>\n",
              "      <th>Status</th>\n",
              "      <td>NaN</td>\n",
              "      <td>NaN</td>\n",
              "      <td>NaN</td>\n",
              "      <td>NaN</td>\n",
              "      <td>NaN</td>\n",
              "      <td>NaN</td>\n",
              "      <td>NaN</td>\n",
              "      <td>NaN</td>\n",
              "      <td>NaN</td>\n",
              "      <td>NaN</td>\n",
              "    </tr>\n",
              "  </tbody>\n",
              "</table>\n",
              "</div>"
            ],
            "text/plain": [
              "                        Id   BasePay  OvertimePay  ...      Year  Notes  Status\n",
              "Id                1.000000 -0.201067    -0.071083  ...  0.865969    NaN     NaN\n",
              "BasePay          -0.201067  1.000000     0.224859  ...  0.023485    NaN     NaN\n",
              "OvertimePay      -0.071083  0.224859     1.000000  ...  0.013507    NaN     NaN\n",
              "OtherPay         -0.104453  0.290479     0.440682  ... -0.014943    NaN     NaN\n",
              "Benefits         -0.324056  0.790229     0.269008  ... -0.050176    NaN     NaN\n",
              "TotalPay         -0.225156  0.887552     0.336174  ...  0.020540    NaN     NaN\n",
              "TotalPayBenefits -0.150623  0.832879     0.325602  ...  0.114866    NaN     NaN\n",
              "Year              0.865969  0.023485     0.013507  ...  1.000000    NaN     NaN\n",
              "Notes                  NaN       NaN          NaN  ...       NaN    NaN     NaN\n",
              "Status                 NaN       NaN          NaN  ...       NaN    NaN     NaN\n",
              "\n",
              "[10 rows x 10 columns]"
            ]
          },
          "metadata": {
            "tags": []
          },
          "execution_count": 92
        }
      ]
    },
    {
      "cell_type": "markdown",
      "metadata": {
        "id": "gY4kMupD9nPg",
        "colab_type": "text"
      },
      "source": [
        "# Great Job!"
      ]
    }
  ]
}